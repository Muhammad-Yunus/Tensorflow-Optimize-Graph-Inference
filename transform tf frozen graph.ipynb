{
 "cells": [
  {
   "cell_type": "markdown",
   "metadata": {},
   "source": [
    "### Open .pb frozen graf in Tensorboard"
   ]
  },
  {
   "cell_type": "code",
   "execution_count": 2,
   "metadata": {},
   "outputs": [
    {
     "name": "stdout",
     "output_type": "stream",
     "text": [
      "WARNING:tensorflow:From <ipython-input-2-b4be2f3aac4a>:5: FastGFile.__init__ (from tensorflow.python.platform.gfile) is deprecated and will be removed in a future version.\n",
      "Instructions for updating:\n",
      "Use tf.gfile.GFile.\n"
     ]
    }
   ],
   "source": [
    "import tensorflow as tf\n",
    "from tensorflow.python.platform import gfile\n",
    "with tf.Session() as sess:\n",
    "    model_filename ='model.pb'\n",
    "    with gfile.FastGFile(model_filename, 'rb') as f:\n",
    "        graph_def = tf.GraphDef()\n",
    "        graph_def.ParseFromString(f.read())\n",
    "        g_in = tf.import_graph_def(graph_def)\n",
    "LOGDIR='log/'\n",
    "train_writer = tf.summary.FileWriter(LOGDIR)\n",
    "train_writer.add_graph(sess.graph)"
   ]
  },
  {
   "cell_type": "markdown",
   "metadata": {},
   "source": [
    "### Run on cmd/terminal\n",
    "`tensorboard --logdir=log/ --port=8080`"
   ]
  },
  {
   "cell_type": "markdown",
   "metadata": {},
   "source": [
    "### Do a Transform Graph to Optimize model for inference"
   ]
  },
  {
   "cell_type": "code",
   "execution_count": 9,
   "metadata": {},
   "outputs": [],
   "source": [
    "from tensorflow.python.tools import optimize_for_inference_lib\n",
    "from tensorflow.tools.graph_transforms import TransformGraph\n",
    "\n",
    "with tf.gfile.FastGFile('model.pb', 'rb') as f:\n",
    "    graph_def = tf.GraphDef()\n",
    "    graph_def.ParseFromString(f.read())\n",
    "    graph_def = optimize_for_inference_lib.optimize_for_inference(graph_def, ['Input'], ['Sigmoid_0004'], tf.float32.as_datatype_enum)\n",
    "    graph_def = TransformGraph(graph_def, ['Input'], ['Sigmoid_0004'], ['fold_constants', 'sort_by_execution_order'])\n",
    "    with tf.gfile.FastGFile('fused_graph.pb', 'wb') as f:\n",
    "            f.write(graph_def.SerializeToString())"
   ]
  },
  {
   "cell_type": "code",
   "execution_count": 8,
   "metadata": {},
   "outputs": [
    {
     "name": "stdout",
     "output_type": "stream",
     "text": [
      "Help on function optimize_for_inference in module tensorflow.python.tools.optimize_for_inference_lib:\n",
      "\n",
      "optimize_for_inference(input_graph_def, input_node_names, output_node_names, placeholder_type_enum, toco_compatible=False)\n",
      "    Applies a series of inference optimizations on the input graph.\n",
      "    \n",
      "    Args:\n",
      "      input_graph_def: A GraphDef containing a training model.\n",
      "      input_node_names: A list of names of the nodes that are fed inputs during\n",
      "        inference.\n",
      "      output_node_names: A list of names of the nodes that produce the final\n",
      "        results.\n",
      "      placeholder_type_enum: The AttrValue enum for the placeholder data type, or\n",
      "          a list that specifies one value per input node name.\n",
      "      toco_compatible: Boolean, if True, only runs optimizations that result in\n",
      "        TOCO compatible graph operations (default=False).\n",
      "    \n",
      "    Returns:\n",
      "      An optimized version of the input graph.\n",
      "\n"
     ]
    }
   ],
   "source": [
    "help(optimize_for_inference_lib.optimize_for_inference)"
   ]
  },
  {
   "cell_type": "markdown",
   "metadata": {},
   "source": [
    "### Check graf again in Tensorboard after TRansform Graph"
   ]
  },
  {
   "cell_type": "code",
   "execution_count": 10,
   "metadata": {},
   "outputs": [],
   "source": [
    "with tf.Session() as sess:\n",
    "    model_filename ='fused_graph.pb'\n",
    "    with gfile.FastGFile(model_filename, 'rb') as f:\n",
    "        graph_def = tf.GraphDef()\n",
    "        graph_def.ParseFromString(f.read())\n",
    "        g_in = tf.import_graph_def(graph_def)\n",
    "LOGDIR='log_after/'\n",
    "train_writer = tf.summary.FileWriter(LOGDIR)\n",
    "train_writer.add_graph(sess.graph)"
   ]
  },
  {
   "cell_type": "markdown",
   "metadata": {},
   "source": [
    "- Close tensorboard sebelumnya yang berjalan di terminal\n",
    "- Run on cmd/terminal untuk log = log_after/ <br>\n",
    "`tensorboard --logdir=log/ --port=8080`"
   ]
  },
  {
   "cell_type": "code",
   "execution_count": null,
   "metadata": {},
   "outputs": [],
   "source": []
  }
 ],
 "metadata": {
  "kernelspec": {
   "display_name": "Python [conda env:GPU_ENV]",
   "language": "python",
   "name": "conda-env-GPU_ENV-py"
  },
  "language_info": {
   "codemirror_mode": {
    "name": "ipython",
    "version": 3
   },
   "file_extension": ".py",
   "mimetype": "text/x-python",
   "name": "python",
   "nbconvert_exporter": "python",
   "pygments_lexer": "ipython3",
   "version": "3.6.12"
  }
 },
 "nbformat": 4,
 "nbformat_minor": 4
}
